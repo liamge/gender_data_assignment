{
 "cells": [
  {
   "cell_type": "code",
   "execution_count": 1,
   "metadata": {
    "collapsed": false
   },
   "outputs": [
    {
     "name": "stderr",
     "output_type": "stream",
     "text": [
      "Using Theano backend.\n"
     ]
    }
   ],
   "source": [
    "import keras\n",
    "import pickle\n",
    "import gensim\n",
    "import csv\n",
    "import numpy as np\n",
    "from keras.layers import Input, Dense, LSTM, RepeatVector, Dropout\n",
    "from keras.models import Model"
   ]
  },
  {
   "cell_type": "code",
   "execution_count": 2,
   "metadata": {
    "collapsed": false
   },
   "outputs": [],
   "source": [
    "def transform_sent(sent):\n",
    "    '''\n",
    "    Takes as input a tokenized sentence (list of strings) and outputs a numpy array\n",
    "    where each row is the word vector for the corresponding word in the sentence.\n",
    "    Final matrix has dimensionality of len(sent) x dimensionality of word vectors\n",
    "    '''\n",
    "    vector = []\n",
    "    for w in sent:\n",
    "        if w == '<PAD>' or w not in model.vocab:\n",
    "            vector.append(np.ones((300,)))\n",
    "        else:\n",
    "            vector.append(model[w])\n",
    "    vector = np.array(vector)\n",
    "    \n",
    "    return vector\n",
    "\n",
    "def pad_sentences(text):\n",
    "    maxlen = max([len(sent) for sent in text])\n",
    "    for sent in text:\n",
    "        while len(sent) < maxlen:\n",
    "            sent.append('<PAD>')\n",
    "            \n",
    "    return text"
   ]
  },
  {
   "cell_type": "code",
   "execution_count": 3,
   "metadata": {
    "collapsed": false
   },
   "outputs": [],
   "source": [
    "tokenized = pickle.load(open('../pickles/sarcasm/sarcasm_tokenized.pkl', 'rb'))\n",
    "model = gensim.models.Word2Vec.load_word2vec_format('../GoogleNews-vectors-negative300.bin.gz', binary=True)"
   ]
  },
  {
   "cell_type": "code",
   "execution_count": 4,
   "metadata": {
    "collapsed": false,
    "scrolled": true
   },
   "outputs": [],
   "source": [
    "datafile = \"../data/sarcasm_v2.csv\"\n",
    "\n",
    "def load_data():\n",
    "    with open(datafile) as f:\n",
    "        return list(csv.reader(f))\n",
    "\n",
    "data = load_data()\n",
    "features = [[transform_sent(sent) for sent in doc] for doc in tokenized]\n",
    "labels = [line[1] for line in data if line[0]==\"GEN\"]"
   ]
  },
  {
   "cell_type": "code",
   "execution_count": 27,
   "metadata": {
    "collapsed": false,
    "scrolled": true
   },
   "outputs": [],
   "source": [
    "X = np.array([transform_sent(s).flatten() for s in new_tokenized])"
   ]
  },
  {
   "cell_type": "code",
   "execution_count": 5,
   "metadata": {
    "collapsed": false
   },
   "outputs": [],
   "source": [
    "new_tokenized = pad_sentences(tokenized)"
   ]
  },
  {
   "cell_type": "code",
   "execution_count": 28,
   "metadata": {
    "collapsed": false
   },
   "outputs": [],
   "source": [
    "x_train = X[:2860]\n",
    "x_test = X[2860:]"
   ]
  },
  {
   "cell_type": "code",
   "execution_count": 18,
   "metadata": {
    "collapsed": true
   },
   "outputs": [],
   "source": [
    "encoding_dim = 64"
   ]
  },
  {
   "cell_type": "code",
   "execution_count": 23,
   "metadata": {
    "collapsed": false
   },
   "outputs": [],
   "source": [
    "input_sequence = Input(shape=(198*300,))\n",
    "\n",
    "encoded = Dense(encoding_dim, activation='relu')(input_sequence)\n",
    "\n",
    "decoded = Dense(198*300, activation='sigmoid')(encoded)\n",
    "\n",
    "autoencoder = Model(input=input_sequence, output=decoded)\n",
    "encoder = Model(input=input_sequence, output=encoded)\n",
    "encoder.load_weights('encoded')"
   ]
  },
  {
   "cell_type": "code",
   "execution_count": 24,
   "metadata": {
    "collapsed": true
   },
   "outputs": [],
   "source": [
    "# create a placeholder for an encoded (32-dimensional) input\n",
    "encoded_input = Input(shape=(encoding_dim,))\n",
    "# retrieve the last layer of the autoencoder model\n",
    "decoder_layer = autoencoder.layers[-1]\n",
    "# create the decoder model\n",
    "decoder = Model(input=encoded_input, output=decoder_layer(encoded_input))"
   ]
  },
  {
   "cell_type": "code",
   "execution_count": 196,
   "metadata": {
    "collapsed": false
   },
   "outputs": [],
   "source": [
    "input_sequence = Input(shape=(198,300))\n",
    "\n",
    "encoded = LSTM(64)(input_sequence)\n",
    "\n",
    "decoded = RepeatVector(198)(encoded)\n",
    "decoded = LSTM(300, return_sequences=True)(decoded)\n",
    "\n",
    "sequence_autoencoder = Model(input_sequence, decoded)\n",
    "encoder = Model(input_sequence, encoded)"
   ]
  },
  {
   "cell_type": "code",
   "execution_count": 25,
   "metadata": {
    "collapsed": true
   },
   "outputs": [],
   "source": [
    "autoencoder.compile(optimizer='adadelta', loss='binary_crossentropy')"
   ]
  },
  {
   "cell_type": "code",
   "execution_count": 29,
   "metadata": {
    "collapsed": false,
    "scrolled": false
   },
   "outputs": [
    {
     "name": "stdout",
     "output_type": "stream",
     "text": [
      "Train on 2860 samples, validate on 400 samples\n",
      "Epoch 1/50\n",
      "2860/2860 [==============================] - 14s - loss: 0.6924 - val_loss: 0.6880\n",
      "Epoch 2/50\n",
      "2860/2860 [==============================] - 14s - loss: 0.6354 - val_loss: 0.4738\n",
      "Epoch 3/50\n",
      "2860/2860 [==============================] - 14s - loss: 0.3267 - val_loss: 0.3190\n",
      "Epoch 4/50\n",
      "2860/2860 [==============================] - 13s - loss: 0.2633 - val_loss: 0.3084\n",
      "Epoch 5/50\n",
      "2860/2860 [==============================] - 12s - loss: 0.2568 - val_loss: 0.3034\n",
      "Epoch 6/50\n",
      "2860/2860 [==============================] - 12s - loss: 0.2533 - val_loss: 0.2984\n",
      "Epoch 7/50\n",
      "2860/2860 [==============================] - 12s - loss: 0.2505 - val_loss: 0.2981\n",
      "Epoch 8/50\n",
      "2860/2860 [==============================] - 13s - loss: 0.2479 - val_loss: 0.2925\n",
      "Epoch 9/50\n",
      "2860/2860 [==============================] - 13s - loss: 0.2456 - val_loss: 0.2910\n",
      "Epoch 10/50\n",
      "2860/2860 [==============================] - 15s - loss: 0.2432 - val_loss: 0.2911\n",
      "Epoch 11/50\n",
      "2860/2860 [==============================] - 13s - loss: 0.2409 - val_loss: 0.2855\n",
      "Epoch 12/50\n",
      "2860/2860 [==============================] - 13s - loss: 0.2384 - val_loss: 0.2833\n",
      "Epoch 13/50\n",
      "2860/2860 [==============================] - 12s - loss: 0.2357 - val_loss: 0.2779\n",
      "Epoch 14/50\n",
      "2860/2860 [==============================] - 12s - loss: 0.2328 - val_loss: 0.2768\n",
      "Epoch 15/50\n",
      "2860/2860 [==============================] - 14s - loss: 0.2294 - val_loss: 0.2722\n",
      "Epoch 16/50\n",
      "2860/2860 [==============================] - 14s - loss: 0.2251 - val_loss: 0.2671\n",
      "Epoch 17/50\n",
      "2860/2860 [==============================] - 12s - loss: 0.2199 - val_loss: 0.2585\n",
      "Epoch 18/50\n",
      "2860/2860 [==============================] - 13s - loss: 0.2141 - val_loss: 0.2513\n",
      "Epoch 19/50\n",
      "2860/2860 [==============================] - 13s - loss: 0.2077 - val_loss: 0.2440\n",
      "Epoch 20/50\n",
      "2860/2860 [==============================] - 14s - loss: 0.2009 - val_loss: 0.2375\n",
      "Epoch 21/50\n",
      "2860/2860 [==============================] - 14s - loss: 0.1944 - val_loss: 0.2314\n",
      "Epoch 22/50\n",
      "2860/2860 [==============================] - 14s - loss: 0.1885 - val_loss: 0.2253\n",
      "Epoch 23/50\n",
      "2860/2860 [==============================] - 12s - loss: 0.1834 - val_loss: 0.2185\n",
      "Epoch 24/50\n",
      "2860/2860 [==============================] - 13s - loss: 0.1791 - val_loss: 0.2146\n",
      "Epoch 25/50\n",
      "2860/2860 [==============================] - 15s - loss: 0.1756 - val_loss: 0.2116\n",
      "Epoch 26/50\n",
      "2860/2860 [==============================] - 13s - loss: 0.1728 - val_loss: 0.2088\n",
      "Epoch 27/50\n",
      "2860/2860 [==============================] - 12s - loss: 0.1704 - val_loss: 0.2059\n",
      "Epoch 28/50\n",
      "2860/2860 [==============================] - 12s - loss: 0.1686 - val_loss: 0.2042\n",
      "Epoch 29/50\n",
      "2860/2860 [==============================] - 12s - loss: 0.1670 - val_loss: 0.2031\n",
      "Epoch 30/50\n",
      "2860/2860 [==============================] - 13s - loss: 0.1658 - val_loss: 0.2018\n",
      "Epoch 31/50\n",
      "2860/2860 [==============================] - 13s - loss: 0.1646 - val_loss: 0.2004\n",
      "Epoch 32/50\n",
      "2860/2860 [==============================] - 13s - loss: 0.1635 - val_loss: 0.1994\n",
      "Epoch 33/50\n",
      "2860/2860 [==============================] - 12s - loss: 0.1626 - val_loss: 0.1988\n",
      "Epoch 34/50\n",
      "2860/2860 [==============================] - 14s - loss: 0.1619 - val_loss: 0.1975\n",
      "Epoch 35/50\n",
      "2860/2860 [==============================] - 15s - loss: 0.1611 - val_loss: 0.1968\n",
      "Epoch 36/50\n",
      "2860/2860 [==============================] - 18s - loss: 0.1605 - val_loss: 0.1963\n",
      "Epoch 37/50\n",
      "2860/2860 [==============================] - 19s - loss: 0.1598 - val_loss: 0.1958\n",
      "Epoch 38/50\n",
      "2860/2860 [==============================] - 15s - loss: 0.1593 - val_loss: 0.1947\n",
      "Epoch 39/50\n",
      "2860/2860 [==============================] - 13s - loss: 0.1587 - val_loss: 0.1941\n",
      "Epoch 40/50\n",
      "2860/2860 [==============================] - 13s - loss: 0.1581 - val_loss: 0.1937\n",
      "Epoch 41/50\n",
      "2860/2860 [==============================] - 14s - loss: 0.1577 - val_loss: 0.1930\n",
      "Epoch 42/50\n",
      "2860/2860 [==============================] - 17s - loss: 0.1571 - val_loss: 0.1924\n",
      "Epoch 43/50\n",
      "2860/2860 [==============================] - 15s - loss: 0.1566 - val_loss: 0.1920\n",
      "Epoch 44/50\n",
      "2816/2860 [============================>.] - ETA: 0s - loss: 0.1565"
     ]
    },
    {
     "ename": "KeyboardInterrupt",
     "evalue": "",
     "traceback": [
      "\u001b[0;31m---------------------------------------------------------------------------\u001b[0m",
      "\u001b[0;31mKeyboardInterrupt\u001b[0m                         Traceback (most recent call last)",
      "\u001b[0;32m<ipython-input-29-41cf5f7995f7>\u001b[0m in \u001b[0;36m<module>\u001b[0;34m()\u001b[0m\n\u001b[1;32m      3\u001b[0m                 \u001b[0mbatch_size\u001b[0m\u001b[0;34m=\u001b[0m\u001b[0;36m256\u001b[0m\u001b[0;34m,\u001b[0m\u001b[0;34m\u001b[0m\u001b[0m\n\u001b[1;32m      4\u001b[0m                 \u001b[0mshuffle\u001b[0m\u001b[0;34m=\u001b[0m\u001b[0;32mTrue\u001b[0m\u001b[0;34m,\u001b[0m\u001b[0;34m\u001b[0m\u001b[0m\n\u001b[0;32m----> 5\u001b[0;31m                 validation_data=(x_test, x_test))\n\u001b[0m",
      "\u001b[0;32m/Library/Frameworks/Python.framework/Versions/3.5/lib/python3.5/site-packages/keras/engine/training.py\u001b[0m in \u001b[0;36mfit\u001b[0;34m(self, x, y, batch_size, nb_epoch, verbose, callbacks, validation_split, validation_data, shuffle, class_weight, sample_weight)\u001b[0m\n\u001b[1;32m   1122\u001b[0m                               \u001b[0mverbose\u001b[0m\u001b[0;34m=\u001b[0m\u001b[0mverbose\u001b[0m\u001b[0;34m,\u001b[0m \u001b[0mcallbacks\u001b[0m\u001b[0;34m=\u001b[0m\u001b[0mcallbacks\u001b[0m\u001b[0;34m,\u001b[0m\u001b[0;34m\u001b[0m\u001b[0m\n\u001b[1;32m   1123\u001b[0m                               \u001b[0mval_f\u001b[0m\u001b[0;34m=\u001b[0m\u001b[0mval_f\u001b[0m\u001b[0;34m,\u001b[0m \u001b[0mval_ins\u001b[0m\u001b[0;34m=\u001b[0m\u001b[0mval_ins\u001b[0m\u001b[0;34m,\u001b[0m \u001b[0mshuffle\u001b[0m\u001b[0;34m=\u001b[0m\u001b[0mshuffle\u001b[0m\u001b[0;34m,\u001b[0m\u001b[0;34m\u001b[0m\u001b[0m\n\u001b[0;32m-> 1124\u001b[0;31m                               callback_metrics=callback_metrics)\n\u001b[0m\u001b[1;32m   1125\u001b[0m \u001b[0;34m\u001b[0m\u001b[0m\n\u001b[1;32m   1126\u001b[0m     \u001b[0;32mdef\u001b[0m \u001b[0mevaluate\u001b[0m\u001b[0;34m(\u001b[0m\u001b[0mself\u001b[0m\u001b[0;34m,\u001b[0m \u001b[0mx\u001b[0m\u001b[0;34m,\u001b[0m \u001b[0my\u001b[0m\u001b[0;34m,\u001b[0m \u001b[0mbatch_size\u001b[0m\u001b[0;34m=\u001b[0m\u001b[0;36m32\u001b[0m\u001b[0;34m,\u001b[0m \u001b[0mverbose\u001b[0m\u001b[0;34m=\u001b[0m\u001b[0;36m1\u001b[0m\u001b[0;34m,\u001b[0m \u001b[0msample_weight\u001b[0m\u001b[0;34m=\u001b[0m\u001b[0;32mNone\u001b[0m\u001b[0;34m)\u001b[0m\u001b[0;34m:\u001b[0m\u001b[0;34m\u001b[0m\u001b[0m\n",
      "\u001b[0;32m/Library/Frameworks/Python.framework/Versions/3.5/lib/python3.5/site-packages/keras/engine/training.py\u001b[0m in \u001b[0;36m_fit_loop\u001b[0;34m(self, f, ins, out_labels, batch_size, nb_epoch, verbose, callbacks, val_f, val_ins, shuffle, callback_metrics)\u001b[0m\n\u001b[1;32m    854\u001b[0m                         val_outs = self._test_loop(val_f, val_ins,\n\u001b[1;32m    855\u001b[0m                                                    \u001b[0mbatch_size\u001b[0m\u001b[0;34m=\u001b[0m\u001b[0mbatch_size\u001b[0m\u001b[0;34m,\u001b[0m\u001b[0;34m\u001b[0m\u001b[0m\n\u001b[0;32m--> 856\u001b[0;31m                                                    verbose=0)\n\u001b[0m\u001b[1;32m    857\u001b[0m                         \u001b[0;32mif\u001b[0m \u001b[0mtype\u001b[0m\u001b[0;34m(\u001b[0m\u001b[0mval_outs\u001b[0m\u001b[0;34m)\u001b[0m \u001b[0;34m!=\u001b[0m \u001b[0mlist\u001b[0m\u001b[0;34m:\u001b[0m\u001b[0;34m\u001b[0m\u001b[0m\n\u001b[1;32m    858\u001b[0m                             \u001b[0mval_outs\u001b[0m \u001b[0;34m=\u001b[0m \u001b[0;34m[\u001b[0m\u001b[0mval_outs\u001b[0m\u001b[0;34m]\u001b[0m\u001b[0;34m\u001b[0m\u001b[0m\n",
      "\u001b[0;32m/Library/Frameworks/Python.framework/Versions/3.5/lib/python3.5/site-packages/keras/engine/training.py\u001b[0m in \u001b[0;36m_test_loop\u001b[0;34m(self, f, ins, batch_size, verbose)\u001b[0m\n\u001b[1;32m    939\u001b[0m                 \u001b[0mins_batch\u001b[0m \u001b[0;34m=\u001b[0m \u001b[0mslice_X\u001b[0m\u001b[0;34m(\u001b[0m\u001b[0mins\u001b[0m\u001b[0;34m,\u001b[0m \u001b[0mbatch_ids\u001b[0m\u001b[0;34m)\u001b[0m\u001b[0;34m\u001b[0m\u001b[0m\n\u001b[1;32m    940\u001b[0m \u001b[0;34m\u001b[0m\u001b[0m\n\u001b[0;32m--> 941\u001b[0;31m             \u001b[0mbatch_outs\u001b[0m \u001b[0;34m=\u001b[0m \u001b[0mf\u001b[0m\u001b[0;34m(\u001b[0m\u001b[0mins_batch\u001b[0m\u001b[0;34m)\u001b[0m\u001b[0;34m\u001b[0m\u001b[0m\n\u001b[0m\u001b[1;32m    942\u001b[0m             \u001b[0;32mif\u001b[0m \u001b[0mtype\u001b[0m\u001b[0;34m(\u001b[0m\u001b[0mbatch_outs\u001b[0m\u001b[0;34m)\u001b[0m \u001b[0;34m==\u001b[0m \u001b[0mlist\u001b[0m\u001b[0;34m:\u001b[0m\u001b[0;34m\u001b[0m\u001b[0m\n\u001b[1;32m    943\u001b[0m                 \u001b[0;32mif\u001b[0m \u001b[0mbatch_index\u001b[0m \u001b[0;34m==\u001b[0m \u001b[0;36m0\u001b[0m\u001b[0;34m:\u001b[0m\u001b[0;34m\u001b[0m\u001b[0m\n",
      "\u001b[0;32m/Library/Frameworks/Python.framework/Versions/3.5/lib/python3.5/site-packages/keras/backend/theano_backend.py\u001b[0m in \u001b[0;36m__call__\u001b[0;34m(self, inputs)\u001b[0m\n\u001b[1;32m    790\u001b[0m     \u001b[0;32mdef\u001b[0m \u001b[0m__call__\u001b[0m\u001b[0;34m(\u001b[0m\u001b[0mself\u001b[0m\u001b[0;34m,\u001b[0m \u001b[0minputs\u001b[0m\u001b[0;34m)\u001b[0m\u001b[0;34m:\u001b[0m\u001b[0;34m\u001b[0m\u001b[0m\n\u001b[1;32m    791\u001b[0m         \u001b[0;32massert\u001b[0m \u001b[0mtype\u001b[0m\u001b[0;34m(\u001b[0m\u001b[0minputs\u001b[0m\u001b[0;34m)\u001b[0m \u001b[0;32min\u001b[0m \u001b[0;34m{\u001b[0m\u001b[0mlist\u001b[0m\u001b[0;34m,\u001b[0m \u001b[0mtuple\u001b[0m\u001b[0;34m}\u001b[0m\u001b[0;34m\u001b[0m\u001b[0m\n\u001b[0;32m--> 792\u001b[0;31m         \u001b[0;32mreturn\u001b[0m \u001b[0mself\u001b[0m\u001b[0;34m.\u001b[0m\u001b[0mfunction\u001b[0m\u001b[0;34m(\u001b[0m\u001b[0;34m*\u001b[0m\u001b[0minputs\u001b[0m\u001b[0;34m)\u001b[0m\u001b[0;34m\u001b[0m\u001b[0m\n\u001b[0m\u001b[1;32m    793\u001b[0m \u001b[0;34m\u001b[0m\u001b[0m\n\u001b[1;32m    794\u001b[0m \u001b[0;34m\u001b[0m\u001b[0m\n",
      "\u001b[0;32m/Library/Frameworks/Python.framework/Versions/3.5/lib/python3.5/site-packages/theano/compile/function_module.py\u001b[0m in \u001b[0;36m__call__\u001b[0;34m(self, *args, **kwargs)\u001b[0m\n\u001b[1;32m    857\u001b[0m         \u001b[0mt0_fn\u001b[0m \u001b[0;34m=\u001b[0m \u001b[0mtime\u001b[0m\u001b[0;34m.\u001b[0m\u001b[0mtime\u001b[0m\u001b[0;34m(\u001b[0m\u001b[0;34m)\u001b[0m\u001b[0;34m\u001b[0m\u001b[0m\n\u001b[1;32m    858\u001b[0m         \u001b[0;32mtry\u001b[0m\u001b[0;34m:\u001b[0m\u001b[0;34m\u001b[0m\u001b[0m\n\u001b[0;32m--> 859\u001b[0;31m             \u001b[0moutputs\u001b[0m \u001b[0;34m=\u001b[0m \u001b[0mself\u001b[0m\u001b[0;34m.\u001b[0m\u001b[0mfn\u001b[0m\u001b[0;34m(\u001b[0m\u001b[0;34m)\u001b[0m\u001b[0;34m\u001b[0m\u001b[0m\n\u001b[0m\u001b[1;32m    860\u001b[0m         \u001b[0;32mexcept\u001b[0m \u001b[0mException\u001b[0m\u001b[0;34m:\u001b[0m\u001b[0;34m\u001b[0m\u001b[0m\n\u001b[1;32m    861\u001b[0m             \u001b[0;32mif\u001b[0m \u001b[0mhasattr\u001b[0m\u001b[0;34m(\u001b[0m\u001b[0mself\u001b[0m\u001b[0;34m.\u001b[0m\u001b[0mfn\u001b[0m\u001b[0;34m,\u001b[0m \u001b[0;34m'position_of_error'\u001b[0m\u001b[0;34m)\u001b[0m\u001b[0;34m:\u001b[0m\u001b[0;34m\u001b[0m\u001b[0m\n",
      "\u001b[0;31mKeyboardInterrupt\u001b[0m: "
     ],
     "output_type": "error"
    }
   ],
   "source": [
    "autoencoder.fit(x_train, x_train,\n",
    "                nb_epoch=50,\n",
    "                batch_size=256,\n",
    "                shuffle=True,\n",
    "                validation_data=(x_test, x_test))"
   ]
  },
  {
   "cell_type": "code",
   "execution_count": 202,
   "metadata": {
    "collapsed": true
   },
   "outputs": [],
   "source": [
    "encoded_sents = encoder.predict(X)"
   ]
  },
  {
   "cell_type": "code",
   "execution_count": 203,
   "metadata": {
    "collapsed": true
   },
   "outputs": [],
   "source": [
    "pickle.dump(encoded_sents, open('LSTM_encoded', 'wb'))"
   ]
  },
  {
   "cell_type": "code",
   "execution_count": 204,
   "metadata": {
    "collapsed": true
   },
   "outputs": [],
   "source": [
    "encoder.save_weights('LSTM_encoder_weights')"
   ]
  },
  {
   "cell_type": "code",
   "execution_count": 11,
   "metadata": {
    "collapsed": false
   },
   "outputs": [
    {
     "name": "stdout",
     "output_type": "stream",
     "text": [
      "____________________________________________________________________________________________________\n",
      "Layer (type)                     Output Shape          Param #     Connected to                     \n",
      "====================================================================================================\n",
      "input_1 (InputLayer)             (None, 59400)         0                                            \n",
      "____________________________________________________________________________________________________\n",
      "dense_1 (Dense)                  (None, 15000)         891015000   input_1[0][0]                    \n",
      "____________________________________________________________________________________________________\n",
      "dense_2 (Dense)                  (None, 1000)          15001000    dense_1[0][0]                    \n",
      "____________________________________________________________________________________________________\n",
      "dense_3 (Dense)                  (None, 300)           300300      dense_2[0][0]                    \n",
      "____________________________________________________________________________________________________\n",
      "dense_4 (Dense)                  (None, 1000)          301000      dense_3[0][0]                    \n",
      "____________________________________________________________________________________________________\n",
      "dense_5 (Dense)                  (None, 15000)         15015000    dense_4[0][0]                    \n",
      "____________________________________________________________________________________________________\n",
      "dense_6 (Dense)                  (None, 59400)         891059400   dense_5[0][0]                    \n",
      "====================================================================================================\n",
      "Total params: 1812691700\n",
      "____________________________________________________________________________________________________\n"
     ]
    }
   ],
   "source": [
    "autoencoder.summary()"
   ]
  },
  {
   "cell_type": "code",
   "execution_count": null,
   "metadata": {
    "collapsed": true
   },
   "outputs": [],
   "source": [
    ""
   ]
  }
 ],
 "metadata": {
  "kernelspec": {
   "display_name": "Python 3",
   "language": "python",
   "name": "python3"
  },
  "language_info": {
   "codemirror_mode": {
    "name": "ipython",
    "version": 3.0
   },
   "file_extension": ".py",
   "mimetype": "text/x-python",
   "name": "python",
   "nbconvert_exporter": "python",
   "pygments_lexer": "ipython3",
   "version": "3.5.2"
  }
 },
 "nbformat": 4,
 "nbformat_minor": 0
}